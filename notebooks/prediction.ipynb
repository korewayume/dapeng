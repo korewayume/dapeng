{
 "cells": [
  {
   "cell_type": "code",
   "execution_count": null,
   "metadata": {},
   "outputs": [],
   "source": [
    "from keras.models import model_from_yaml\n",
    "import numpy as np\n",
    "import matplotlib.pyplot as plt\n",
    "from osgeo import gdal\n",
    "from tqdm import tqdm_notebook\n",
    "from glob import glob\n",
    "% matplotlib inline\n"
   ]
  },
  {
   "cell_type": "code",
   "execution_count": null,
   "metadata": {
    "collapsed": true
   },
   "outputs": [],
   "source": [
    "with open(\"ModelArchive/u-net-model.yaml\") as f:\n",
    "    model = model_from_yaml(f.read())\n",
    "model.load_weights(\"ModelArchive/release_v1.0.hdf5\")\n"
   ]
  },
  {
   "cell_type": "code",
   "execution_count": null,
   "metadata": {
    "collapsed": true
   },
   "outputs": [],
   "source": [
    "from utils.keras_tools import ImageDirectoryIterator, x_tif_reader, y_tif_reader, load_from_directories\n",
    "import re, os"
   ]
  },
  {
   "cell_type": "code",
   "execution_count": null,
   "metadata": {
    "collapsed": true
   },
   "outputs": [],
   "source": [
    "def save_tif(output, array):\n",
    "    driver = gdal.GetDriverByName('GTiff')\n",
    "    new_tif = driver.Create(output, 256, 256, 1, gdal.GDT_Byte)\n",
    "    new_tif.GetRasterBand(1).WriteArray(array)\n"
   ]
  },
  {
   "cell_type": "code",
   "execution_count": null,
   "metadata": {},
   "outputs": [],
   "source": [
    "for row in tqdm_notebook(range(109799, 110029), desc=u\"预测\"):\n",
    "    filepaths = glob(\"/Users/mac/Desktop/dest/{}_*.jpeg\".format(row))\n",
    "    gen = ImageDirectoryIterator([(filepath, None) for filepath in filepaths], x_tif_reader, None, batch_size=16,\n",
    "                                 shuffle=False)\n",
    "    predic_y = model.predict_generator(gen, steps=len(gen), verbose=0)\n",
    "    predic_y_byte = (predic_y * 255).astype(np.uint8)\n",
    "    for i, filepath in enumerate(filepaths):\n",
    "        filename = os.path.basename(filepath)\n",
    "        gray = predic_y_byte[i].reshape(256, 256)\n",
    "        save_tif(os.path.join(\"/Users/mac/Desktop/model_prediction\", os.path.splitext(filename)[0] + \".tif\"), gray)\n"
   ]
  },
  {
   "cell_type": "code",
   "execution_count": null,
   "metadata": {
    "collapsed": true
   },
   "outputs": [],
   "source": []
  }
 ],
 "metadata": {
  "kernelspec": {
   "display_name": "Python 2",
   "language": "python",
   "name": "python2"
  },
  "language_info": {
   "codemirror_mode": {
    "name": "ipython",
    "version": 2
   },
   "file_extension": ".py",
   "mimetype": "text/x-python",
   "name": "python",
   "nbconvert_exporter": "python",
   "pygments_lexer": "ipython2",
   "version": "2.7.13"
  }
 },
 "nbformat": 4,
 "nbformat_minor": 2
}
