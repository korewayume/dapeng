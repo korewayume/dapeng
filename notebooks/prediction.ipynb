{
 "cells": [
  {
   "cell_type": "code",
   "execution_count": 1,
   "metadata": {},
   "outputs": [
    {
     "name": "stderr",
     "output_type": "stream",
     "text": [
      "Using TensorFlow backend.\n"
     ]
    }
   ],
   "source": [
    "from keras.models import model_from_yaml\n",
    "import numpy as np\n",
    "import matplotlib.pyplot as plt\n",
    "from osgeo import gdal\n",
    "from tqdm import tqdm_notebook\n",
    "from glob import glob\n",
    "% matplotlib inline"
   ]
  },
  {
   "cell_type": "code",
   "execution_count": 2,
   "metadata": {
    "collapsed": true
   },
   "outputs": [],
   "source": [
    "with open(\"ModelArchive/u-net-model.yaml\") as f:\n",
    "    model = model_from_yaml(f.read())\n",
    "model.load_weights(\"ModelArchive/unet_best_checkpoint.hdf5\")"
   ]
  },
  {
   "cell_type": "code",
   "execution_count": 3,
   "metadata": {
    "collapsed": true
   },
   "outputs": [],
   "source": [
    "from utils.keras_tools import ImageDirectoryIterator, x_tif_reader, y_tif_reader, load_from_directories\n",
    "import re, os"
   ]
  },
  {
   "cell_type": "code",
   "execution_count": 4,
   "metadata": {
    "collapsed": true
   },
   "outputs": [],
   "source": [
    "def save_tif(output, array):\n",
    "    driver = gdal.GetDriverByName('GTiff')\n",
    "    new_tif = driver.Create(output, 256, 256, 1, gdal.GDT_Byte)\n",
    "    new_tif.GetRasterBand(1).WriteArray(array)"
   ]
  },
  {
   "cell_type": "code",
   "execution_count": 5,
   "metadata": {},
   "outputs": [
    {
     "name": "stdout",
     "output_type": "stream",
     "text": [
      "总共找到233个样本。\n",
      "15/15 [==============================] - 4s     \n"
     ]
    }
   ],
   "source": [
    "filepaths = glob(\"/root/notebooks/data/dest/110025_*.jpeg\")\n",
    "\n",
    "gen = ImageDirectoryIterator([(filepath, None) for filepath in filepaths], x_tif_reader, None, batch_size=16, shuffle=False)\n",
    "predic_y = model.predict_generator(gen, steps=len(gen), verbose=1)\n",
    "predic_y_byte = (predic_y*255).astype(np.uint8)\n",
    "for i, filepath in enumerate(filepaths):\n",
    "    filename = os.path.basename(filepath)\n",
    "    gray = predic_y_byte[i].reshape(256, 256, 1)\n",
    "    wb = np.dstack([gray,gray,gray])\n",
    "    plt.imsave(os.path.join(\"/root/notebooks/data/pred\", os.path.splitext(filename)[0]+\".png\"), wb)"
   ]
  },
  {
   "cell_type": "code",
   "execution_count": null,
   "metadata": {
    "collapsed": true
   },
   "outputs": [],
   "source": []
  }
 ],
 "metadata": {
  "kernelspec": {
   "display_name": "Python 2",
   "language": "python",
   "name": "python2"
  },
  "language_info": {
   "codemirror_mode": {
    "name": "ipython",
    "version": 2
   },
   "file_extension": ".py",
   "mimetype": "text/x-python",
   "name": "python",
   "nbconvert_exporter": "python",
   "pygments_lexer": "ipython2",
   "version": "2.7.13"
  }
 },
 "nbformat": 4,
 "nbformat_minor": 2
}
