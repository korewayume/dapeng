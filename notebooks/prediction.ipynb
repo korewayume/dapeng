{
 "cells": [
  {
   "cell_type": "code",
   "execution_count": null,
   "metadata": {},
   "outputs": [],
   "source": [
    "import re, os\n",
    "import numpy as np\n",
    "import matplotlib.pyplot as plt\n",
    "from PIL import Image\n",
    "from tqdm import tqdm_notebook\n",
    "from glob import glob\n",
    "from dapeng.models.unet import unet5\n",
    "from dapeng.utils.keras_tools import ImageDirectoryIterator, x_tif_reader, predict_from_directory\n",
    "% matplotlib inline"
   ]
  },
  {
   "cell_type": "code",
   "execution_count": null,
   "metadata": {
    "collapsed": true
   },
   "outputs": [],
   "source": [
    "model = unet5(256)\n",
    "model.load_weights(\"ModelArchive/release_v1.0.hdf5\")"
   ]
  },
  {
   "cell_type": "code",
   "execution_count": null,
   "metadata": {
    "collapsed": true
   },
   "outputs": [],
   "source": [
    "def imsave(savepath, array):\n",
    "    Image.fromarray(array, mode=\"L\").save(savepath)"
   ]
  },
  {
   "cell_type": "code",
   "execution_count": null,
   "metadata": {},
   "outputs": [],
   "source": [
    "for row in tqdm_notebook(range(108694, 108924), desc=u\"预测\"):\n",
    "    filepaths = glob(\"/Users/mac/Desktop/shouguang/{}/*.jpeg\".format(row))\n",
    "    gen = ImageDirectoryIterator([(filepath, None) for filepath in filepaths], x_tif_reader, None, batch_size=16,\n",
    "                                 shuffle=False)\n",
    "    predic_y = model.predict_generator(gen, steps=len(gen), verbose=0)\n",
    "    predic_y_byte = (predic_y * 255).astype(np.uint8)\n",
    "    for i, filepath in enumerate(filepaths):\n",
    "        filename = os.path.basename(filepath)\n",
    "        gray = predic_y_byte[i].reshape(256, 256)\n",
    "        imsave(os.path.join(\"/Users/mac/Desktop/model_prediction\", str(row)+\"_\"+os.path.splitext(filename)[0] + \".png\"), gray)\n"
   ]
  },
  {
   "cell_type": "code",
   "execution_count": null,
   "metadata": {
    "collapsed": true
   },
   "outputs": [],
   "source": []
  }
 ],
 "metadata": {
  "kernelspec": {
   "display_name": "Python 2",
   "language": "python",
   "name": "python2"
  },
  "language_info": {
   "codemirror_mode": {
    "name": "ipython",
    "version": 2
   },
   "file_extension": ".py",
   "mimetype": "text/x-python",
   "name": "python",
   "nbconvert_exporter": "python",
   "pygments_lexer": "ipython2",
   "version": "2.7.13"
  }
 },
 "nbformat": 4,
 "nbformat_minor": 2
}
