{
 "cells": [
  {
   "cell_type": "code",
   "execution_count": 1,
   "metadata": {
    "collapsed": true
   },
   "outputs": [],
   "source": [
    "# -*- coding: utf-8 -*-\n",
    "import os, math, random, re, cv2\n",
    "import matplotlib.pyplot as plt\n",
    "import numpy as np\n",
    "import scipy as sp\n",
    "import shapely.wkt\n",
    "from osgeo import gdal, ogr, osr\n",
    "from shapely.geometry import Polygon, MultiPolygon, LineString, MultiLineString, Point, MultiPoint, LinearRing\n",
    "from tqdm import tqdm_notebook\n",
    "%matplotlib inline"
   ]
  },
  {
   "cell_type": "code",
   "execution_count": 2,
   "metadata": {
    "collapsed": true
   },
   "outputs": [],
   "source": [
    "def plot_image(image, cmap=plt.cm.gray, title=None):\n",
    "    fig = plt.figure()\n",
    "    plt.imshow(image, cmap=cmap)\n",
    "    plt.axis(\"off\")\n",
    "    if title is not None:\n",
    "        plt.title(title)\n",
    "    plt.show()"
   ]
  },
  {
   "cell_type": "code",
   "execution_count": 3,
   "metadata": {},
   "outputs": [
    {
     "data": {
      "image/png": "[encoded data removed]",
      "text/plain": [
       "<matplotlib.figure.Figure at 0x1199c3750>"
      ]
     },
     "metadata": {},
     "output_type": "display_data"
    }
   ],
   "source": [
    "mask = plt.imread(\"/Users/mac/Desktop/111.tif\")\n",
    "tmp = mask.flatten()[mask.flatten()>100]\n",
    "n, bins, patches = plt.hist(tmp, 256)"
   ]
  },
  {
   "cell_type": "code",
   "execution_count": 4,
   "metadata": {
    "collapsed": true
   },
   "outputs": [],
   "source": [
    "# threshold, mask = cv2.threshold(mask, 240, 256, cv2.THRESH_OTSU)\n",
    "threshold, mask = cv2.threshold(mask, 200, 256, cv2.THRESH_BINARY)\n",
    "kernel = np.ones((2, 2), np.uint8)\n",
    "opend = cv2.morphologyEx(mask, cv2.MORPH_OPEN, kernel, iterations=5)\n",
    "close = cv2.morphologyEx(opend, cv2.MORPH_CLOSE, kernel, iterations=5)"
   ]
  },
  {
   "cell_type": "code",
   "execution_count": 5,
   "metadata": {},
   "outputs": [
    {
     "data": {
      "image/png": "[encoded data removed]",
      "text/plain": [
       "<matplotlib.figure.Figure at 0x11a3e2cd0>"
      ]
     },
     "metadata": {},
     "output_type": "display_data"
    }
   ],
   "source": [
    "plot_image(close, title=\"threshold: {}\".format(threshold))"
   ]
  },
  {
   "cell_type": "code",
   "execution_count": 6,
   "metadata": {
    "collapsed": true
   },
   "outputs": [],
   "source": [
    "_, contours, _ = cv2.findContours(close, cv2.RETR_EXTERNAL, cv2.CHAIN_APPROX_SIMPLE)\n",
    "approx_contours = [cv2.approxPolyDP(cnt, 3, True) for cnt in contours]"
   ]
  },
  {
   "cell_type": "code",
   "execution_count": 15,
   "metadata": {},
   "outputs": [
    {
     "data": {
      "text/plain": [
       "array([[[538, 448]],\n",
       "\n",
       "       [[537, 449]],\n",
       "\n",
       "       [[537, 450]],\n",
       "\n",
       "       [[579, 450]],\n",
       "\n",
       "       [[563, 450]],\n",
       "\n",
       "       [[562, 449]],\n",
       "\n",
       "       [[550, 449]],\n",
       "\n",
       "       [[549, 448]]], dtype=int32)"
      ]
     },
     "execution_count": 15,
     "metadata": {},
     "output_type": "execute_result"
    }
   ],
   "source": [
    "contours[0]"
   ]
  },
  {
   "cell_type": "code",
   "execution_count": 7,
   "metadata": {},
   "outputs": [
    {
     "data": {
      "text/plain": [
       "132"
      ]
     },
     "execution_count": 7,
     "metadata": {},
     "output_type": "execute_result"
    }
   ],
   "source": [
    "len(approx_contours)"
   ]
  },
  {
   "cell_type": "code",
   "execution_count": 8,
   "metadata": {},
   "outputs": [],
   "source": [
    "polygons = []\n",
    "linestrings = []\n",
    "points = []\n",
    "linerings = []\n",
    "for cnt in approx_contours:\n",
    "    assert cnt.shape[1] == 1\n",
    "    if cnt.shape[0] > 2:\n",
    "        poly = Polygon(shell=cnt[:, 0, :])\n",
    "        if poly.is_valid:\n",
    "            polygons.append(poly)\n",
    "#         else:\n",
    "#             point_list = list(poly.exterior.coords)\n",
    "#             for i in range(len(point_list)-1):\n",
    "#                 if i == len(point_list)-1:\n",
    "#                     ls = LineString((point_list[i], point_list[0]))\n",
    "#                 else:\n",
    "#                     ls = LineString((point_list[i], point_list[i+1]))\n",
    "#                 if ls.is_valid:\n",
    "#                     linestrings.append(ls)\n",
    "#                 else:\n",
    "#                     print cnt[:, 0, :]\n",
    "#     elif cnt.shape[0] > 1:\n",
    "#         line = LineString(coordinates=cnt[:, 0, :])\n",
    "#         linestrings.append(line)\n",
    "#     else:\n",
    "#         point = Point(cnt.reshape(2,))\n",
    "#         points.append(point)\n",
    "multi_polygon = MultiPolygon(polygons)\n",
    "# multi_linestring = MultiLineString(linestrings)\n",
    "# multi_point = MultiPoint(points)\n",
    "\n",
    "# geometry_collection = multi_polygon.union(multi_linestring).union(multi_point)\n",
    "\n",
    "# geometry_collection_wkt = shapely.wkt.dumps(geometry_collection)\n",
    "\n",
    "multi_polygon_wkt = shapely.wkt.dumps(multi_polygon)\n",
    "\n",
    "# ogr_gc = ogr.CreateGeometryFromWkt(geometry_collection_wkt)"
   ]
  },
  {
   "cell_type": "code",
   "execution_count": 9,
   "metadata": {
    "collapsed": true
   },
   "outputs": [],
   "source": [
    "with open(\"multi_polygon_wkt1.txt\", \"a+\") as f:\n",
    "    f.write(multi_polygon_wkt)"
   ]
  },
  {
   "cell_type": "code",
   "execution_count": 10,
   "metadata": {},
   "outputs": [
    {
     "data": {
      "text/plain": [
       "125"
      ]
     },
     "execution_count": 10,
     "metadata": {},
     "output_type": "execute_result"
    }
   ],
   "source": [
    "len(polygons)"
   ]
  },
  {
   "cell_type": "code",
   "execution_count": null,
   "metadata": {
    "collapsed": true
   },
   "outputs": [],
   "source": []
  }
 ],
 "metadata": {
  "kernelspec": {
   "display_name": "Python 2",
   "language": "python",
   "name": "python2"
  },
  "language_info": {
   "codemirror_mode": {
    "name": "ipython",
    "version": 2
   },
   "file_extension": ".py",
   "mimetype": "text/x-python",
   "name": "python",
   "nbconvert_exporter": "python",
   "pygments_lexer": "ipython2",
   "version": "2.7.13"
  }
 },
 "nbformat": 4,
 "nbformat_minor": 2
}
