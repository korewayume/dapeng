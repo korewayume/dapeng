{
 "cells": [
  {
   "cell_type": "code",
   "execution_count": null,
   "metadata": {},
   "outputs": [],
   "source": [
    "# -*- coding: utf-8 -*-\n",
    "from __future__ import print_function, unicode_literals\n",
    "import re, json, os\n",
    "from datetime import datetime\n",
    "from keras.optimizers import Adam\n",
    "from keras.callbacks import ModelCheckpoint, TensorBoard\n",
    "from dapeng.models.unet import unet5\n",
    "from dapeng.metrics import jaccard_coefficient\n",
    "from dapeng.utils.keras_tools import x_tif_reader, y_tif_reader, train_from_directories"
   ]
  },
  {
   "cell_type": "markdown",
   "metadata": {},
   "source": [
    "# 参数"
   ]
  },
  {
   "cell_type": "code",
   "execution_count": null,
   "metadata": {
    "collapsed": true
   },
   "outputs": [],
   "source": [
    "with open(\"u-net-train.json\") as cfg:\n",
    "    configuration = json.load(cfg)\n",
    "unet_model_path = configuration.get(\"unet_model_path\", \"ModelArchive/u-net-model.yaml\")\n",
    "unet_weight_path = configuration.get(\"unet_weight_path\", 'ModelArchive/unet_best_checkpoint.hdf5')\n",
    "unet_weight_checkpoint_path = configuration.get(\"unet_weight_checkpoint_path\", 'ModelArchive/unet_best_checkpoint.hdf5')\n",
    "tensorboard_log_directory = os.path.join(configuration[\"tensorboard_log_directory\"],\n",
    "                                         datetime.now().strftime(\"%m-%d-%H-%M\"))\n",
    "load_weight = configuration.get(\"load_weight\", False)\n",
    "fit_verbose = configuration.get(\"fit_verbose\", True)\n",
    "mosaic_size = configuration.get(\"mosaic_size\", 256)\n",
    "learning_rate = configuration.get(\"learning_rate\", 1e-3)\n",
    "dropout_rate = configuration.get(\"dropout_rate\", 0.2)\n",
    "epochs = configuration.get(\"epochs\", 300)\n",
    "batch_size = configuration.get(\"batch_size\", 15)\n",
    "train_x_path = configuration[\"train_x_path\"]\n",
    "train_y_path = configuration[\"train_y_path\"]\n",
    "valid_x_path = configuration[\"valid_x_path\"]\n",
    "valid_y_path = configuration[\"valid_y_path\"]\n",
    "valid_batch_size = configuration.get(\"valid_batch_size\", 10)"
   ]
  },
  {
   "cell_type": "markdown",
   "metadata": {},
   "source": [
    "# 训练"
   ]
  },
  {
   "cell_type": "code",
   "execution_count": null,
   "metadata": {
    "collapsed": true
   },
   "outputs": [],
   "source": [
    "model = unet5(mosaic_size, optimizer=Adam(lr=learning_rate), loss='binary_crossentropy', metrics=[jaccard_coefficient])\n",
    "if load_weight:\n",
    "    model.load_weights(unet_weight_path)\n",
    "model_checkpoint = ModelCheckpoint(unet_weight_checkpoint_path, monitor='loss', save_best_only=True, verbose=0)\n",
    "tensorboard = TensorBoard(log_dir=tensorboard_log_directory, write_graph=True, write_images=True)\n",
    "model_callbacks = [model_checkpoint, tensorboard]"
   ]
  },
  {
   "cell_type": "code",
   "execution_count": null,
   "metadata": {},
   "outputs": [],
   "source": [
    "filename_regex = re.compile(r\"^\\d{3}_\\d{3}_\\d{3}\\.tif\")\n",
    "print(\"正在扫描训练样本\")\n",
    "train_gen = train_from_directories(train_x_path, train_y_path, x_tif_reader, y_tif_reader,\n",
    "                                   filename_regex, batch_size=batch_size)\n",
    "print(\"正在扫描验证样本\")\n",
    "valid_gen = train_from_directories(valid_x_path, valid_y_path, x_tif_reader, y_tif_reader,\n",
    "                                   filename_regex, batch_size=valid_batch_size)"
   ]
  },
  {
   "cell_type": "code",
   "execution_count": null,
   "metadata": {},
   "outputs": [],
   "source": [
    "print(\"开始训练网络\")\n",
    "model.fit_generator(train_gen, steps_per_epoch=len(train_gen),\n",
    "                    validation_data=valid_gen, validation_steps=len(valid_gen),\n",
    "                    epochs=epochs, verbose=fit_verbose, callbacks=model_callbacks, shuffle=True)"
   ]
  }
 ],
 "metadata": {
  "kernelspec": {
   "display_name": "Python 2",
   "language": "python",
   "name": "python2"
  },
  "language_info": {
   "codemirror_mode": {
    "name": "ipython",
    "version": 2
   },
   "file_extension": ".py",
   "mimetype": "text/x-python",
   "name": "python",
   "nbconvert_exporter": "python",
   "pygments_lexer": "ipython2",
   "version": "2.7.13"
  }
 },
 "nbformat": 4,
 "nbformat_minor": 2
}
