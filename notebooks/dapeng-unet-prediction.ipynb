{
 "cells": [
  {
   "cell_type": "code",
   "execution_count": 1,
   "metadata": {},
   "outputs": [
    {
     "name": "stderr",
     "output_type": "stream",
     "text": [
      "Using TensorFlow backend.\n"
     ]
    }
   ],
   "source": [
    "# -*- coding: utf-8 -*-\n",
    "\n",
    "import matplotlib.pyplot as plt\n",
    "import numpy as np\n",
    "import scipy as sp\n",
    "%matplotlib inline\n",
    "\n",
    "import cv2\n",
    "\n",
    "from keras.models import Model, load_model, model_from_yaml\n",
    "from keras.layers import Conv2D, MaxPool2D, UpSampling2D, Input, merge, concatenate\n",
    "from keras.optimizers import Adam\n",
    "from keras.callbacks import ModelCheckpoint\n",
    "from keras import backend as K\n",
    "\n",
    "from sklearn.metrics import jaccard_similarity_score\n",
    "from sklearn.model_selection import train_test_split, ShuffleSplit\n",
    "\n",
    "from glob import glob"
   ]
  },
  {
   "cell_type": "code",
   "execution_count": 2,
   "metadata": {
    "collapsed": true
   },
   "outputs": [],
   "source": [
    "def get_trained_model(model_file=\"u-net-model.yaml\", weight_path=\"weights/unet_best.hdf5\"):\n",
    "    with open(model_file) as mf:\n",
    "        model = model_from_yaml(mf.read())\n",
    "    model.load_weights(weight_path)\n",
    "    return model"
   ]
  },
  {
   "cell_type": "code",
   "execution_count": 3,
   "metadata": {},
   "outputs": [
    {
     "name": "stdout",
     "output_type": "stream",
     "text": [
      "2451/2451 [==============================] - 911s   \n"
     ]
    }
   ],
   "source": [
    "trained_model = get_trained_model()\n",
    "data_paths = []\n",
    "for row_no in range(43):\n",
    "    for col_no in range(57):\n",
    "        data_paths.append(\"pieces/image_{:03}_{:03}.png\".format(row_no, col_no))\n",
    "data = []\n",
    "for path in data_paths:\n",
    "    data.append(cv2.imread(path))\n",
    "pred_y = trained_model.predict(\n",
    "    np.stack(data, axis=0),\n",
    "    verbose=1\n",
    ")"
   ]
  },
  {
   "cell_type": "code",
   "execution_count": 4,
   "metadata": {
    "collapsed": true
   },
   "outputs": [],
   "source": [
    "n_rows, n_cols = 43, 57\n",
    "result = np.zeros((n_rows*160, n_cols*160, 1), pred_y.dtype)\n",
    "for i in range(n_rows):\n",
    "    for j in range(n_cols):\n",
    "        result[i*160:i*160+160, j*160:j*160+160] = pred_y[i*n_cols+j]\n",
    "plt.imsave(\"predict0904.tif\", result.reshape(result.shape[0], result.shape[1]))"
   ]
  },
  {
   "cell_type": "code",
   "execution_count": 5,
   "metadata": {},
   "outputs": [
    {
     "data": {
      "text/plain": [
       "(2451, 160, 160, 1)"
      ]
     },
     "execution_count": 5,
     "metadata": {},
     "output_type": "execute_result"
    }
   ],
   "source": [
    "pred_y.shape"
   ]
  },
  {
   "cell_type": "code",
   "execution_count": 7,
   "metadata": {
    "collapsed": true
   },
   "outputs": [],
   "source": [
    "np.save(\"predict0904\", result.reshape(result.shape[0], result.shape[1]))"
   ]
  },
  {
   "cell_type": "code",
   "execution_count": null,
   "metadata": {
    "collapsed": true
   },
   "outputs": [],
   "source": []
  }
 ],
 "metadata": {
  "kernelspec": {
   "display_name": "Python 2",
   "language": "python",
   "name": "python2"
  },
  "language_info": {
   "codemirror_mode": {
    "name": "ipython",
    "version": 2
   },
   "file_extension": ".py",
   "mimetype": "text/x-python",
   "name": "python",
   "nbconvert_exporter": "python",
   "pygments_lexer": "ipython2",
   "version": "2.7.13"
  }
 },
 "nbformat": 4,
 "nbformat_minor": 2
}
